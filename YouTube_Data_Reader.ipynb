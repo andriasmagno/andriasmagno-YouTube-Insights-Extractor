{
  "nbformat": 4,
  "nbformat_minor": 0,
  "metadata": {
    "colab": {
      "provenance": [],
      "toc_visible": true,
      "authorship_tag": "ABX9TyMsKwPyplUnmxCp+Vj2Tjsm",
      "include_colab_link": true
    },
    "kernelspec": {
      "name": "python3",
      "display_name": "Python 3"
    },
    "language_info": {
      "name": "python"
    }
  },
  "cells": [
    {
      "cell_type": "markdown",
      "metadata": {
        "id": "view-in-github",
        "colab_type": "text"
      },
      "source": [
        "<a href=\"https://colab.research.google.com/github/andriasmagno/andriasmagno-YouTube-Insights-Extractor/blob/main/YouTube_Data_Reader.ipynb\" target=\"_parent\"><img src=\"https://colab.research.google.com/assets/colab-badge.svg\" alt=\"Open In Colab\"/></a>"
      ]
    },
    {
      "cell_type": "code",
      "execution_count": null,
      "metadata": {
        "id": "b3b5WvyD3jNy"
      },
      "outputs": [],
      "source": [
        "import pandas as pd\n",
        "\n",
        "# Caminho do arquivo CSV (ajuste conforme o caminho onde o arquivo está salvo)\n",
        "file_path = r'D:\\ANDRIAS\\ATLAS\\ATLAS 2.0\\dados\\YouTube_Channel_Data.csv'\n",
        "\n",
        "# Ler o arquivo CSV usando pandas\n",
        "df = pd.read_csv(file_path)\n",
        "\n",
        "# Printar as primeiras linhas do arquivo CSV (você pode usar .head() ou exibir o DataFrame diretamente)\n",
        "print(df.head())\n",
        "\n",
        "# Ou simplesmente mostrar o DataFrame completo no Jupyter Notebook\n",
        "df\n"
      ]
    }
  ]
}