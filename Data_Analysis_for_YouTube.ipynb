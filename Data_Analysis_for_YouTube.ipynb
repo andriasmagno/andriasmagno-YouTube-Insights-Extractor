{
  "nbformat": 4,
  "nbformat_minor": 0,
  "metadata": {
    "colab": {
      "provenance": [],
      "authorship_tag": "ABX9TyM7zbiZg5LXZae94qlzYwu9",
      "include_colab_link": true
    },
    "kernelspec": {
      "name": "python3",
      "display_name": "Python 3"
    },
    "language_info": {
      "name": "python"
    }
  },
  "cells": [
    {
      "cell_type": "markdown",
      "metadata": {
        "id": "view-in-github",
        "colab_type": "text"
      },
      "source": [
        "<a href=\"https://colab.research.google.com/github/andriasmagno/andriasmagno-YouTube-Insights-Extractor/blob/main/Data_Analysis_for_YouTube.ipynb\" target=\"_parent\"><img src=\"https://colab.research.google.com/assets/colab-badge.svg\" alt=\"Open In Colab\"/></a>"
      ]
    },
    {
      "cell_type": "code",
      "execution_count": null,
      "metadata": {
        "id": "8EnicF0H4zV_"
      },
      "outputs": [],
      "source": [
        "import pandas as pd\n",
        "\n",
        "# Caminho do arquivo CSV (ajuste conforme o caminho onde o arquivo está salvo)\n",
        "file_path = r'D:\\ANDRIAS\\ATLAS\\ATLAS 2.0\\dados\\YouTube_Channel_Data.csv'\n",
        "\n",
        "# Função para converter visualizações e comentários para números\n",
        "def convert_to_numeric(value):\n",
        "    value = value.replace('K', 'e3').replace('M', 'e6')\n",
        "    return pd.to_numeric(value)\n",
        "\n",
        "# Ler o arquivo CSV usando pandas\n",
        "df = pd.read_csv(file_path)\n",
        "\n",
        "# Função para calcular Visualizações por Unidade de Tempo (VUT)\n",
        "def calculate_vut(df):\n",
        "    df['Days Since Published'] = (pd.to_datetime('today') - pd.to_datetime(df['Date'])).dt.days\n",
        "    df['Views'] = df['Views'].apply(convert_to_numeric)\n",
        "    df['VUT'] = df['Views'] / df['Days Since Published']\n",
        "    return df\n",
        "\n",
        "# Função para calcular Engajamento Relativo (ER)\n",
        "def calculate_engagement_rate(df):\n",
        "    df['Comments'] = df['Comments'].apply(convert_to_numeric)\n",
        "    df['ER'] = df['Comments'] / df['Views']\n",
        "    return df\n",
        "\n",
        "# Função para calcular Estimativa de Ganho por Unidade de Tempo (EGUT)\n",
        "def calculate_egut(df):\n",
        "    df['Average Earnings'] = (df['Earnings (Low)'].str.replace('$', '').str.replace('K', 'e3').str.replace('M', 'e6').apply(pd.to_numeric) +\n",
        "                              df['Earnings (High)'].str.replace('$', '').str.replace('K', 'e3').str.replace('M', 'e6').apply(pd.to_numeric)) / 2\n",
        "    df['EGUT'] = df['Average Earnings'] / df['Days Since Published']\n",
        "    return df\n",
        "\n",
        "# Função para calcular a Relação Visualizações/Ganhos (V/G)\n",
        "def calculate_views_per_gain(df):\n",
        "    df['VG'] = df['Views'] / df['Average Earnings']\n",
        "    return df\n",
        "\n",
        "# Aplicar as funções e gerar as métricas\n",
        "df = calculate_vut(df)\n",
        "df = calculate_engagement_rate(df)\n",
        "df = calculate_egut(df)\n",
        "df = calculate_views_per_gain(df)\n",
        "\n",
        "# Exibir o DataFrame com as métricas calculadas (mostrando 20 resultados)\n",
        "df.head(20)  # Exibir as primeiras 20 linhas"
      ]
    }
  ]
}